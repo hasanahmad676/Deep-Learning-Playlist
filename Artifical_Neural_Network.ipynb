{
  "nbformat": 4,
  "nbformat_minor": 0,
  "metadata": {
    "colab": {
      "provenance": [],
      "authorship_tag": "ABX9TyMSTI6jS50tkjUJIi/SZ2Pp",
      "include_colab_link": true
    },
    "kernelspec": {
      "name": "python3",
      "display_name": "Python 3"
    },
    "language_info": {
      "name": "python"
    }
  },
  "cells": [
    {
      "cell_type": "markdown",
      "metadata": {
        "id": "view-in-github",
        "colab_type": "text"
      },
      "source": [
        "<a href=\"https://colab.research.google.com/github/hasanahmad676/Deep-Learning-Playlist/blob/main/Artifical_Neural_Network.ipynb\" target=\"_parent\"><img src=\"https://colab.research.google.com/assets/colab-badge.svg\" alt=\"Open In Colab\"/></a>"
      ]
    },
    {
      "cell_type": "code",
      "execution_count": 2,
      "metadata": {
        "id": "3vbBIw56kqPi"
      },
      "outputs": [],
      "source": [
        "import numpy as np\n",
        "import pandas as pd\n",
        "\n",
        "import seaborn as sns\n",
        "import matplotlib.pyplot as plt"
      ]
    },
    {
      "cell_type": "code",
      "source": [
        "df=pd.read_csv(\"/content/diabetes.csv\")"
      ],
      "metadata": {
        "id": "ol-frEMNkv08"
      },
      "execution_count": 5,
      "outputs": []
    },
    {
      "cell_type": "code",
      "source": [
        "df.head()"
      ],
      "metadata": {
        "colab": {
          "base_uri": "https://localhost:8080/",
          "height": 206
        },
        "id": "K8sWOK0tkv3i",
        "outputId": "8390379b-018a-4a58-bf82-3e0eefe5a7a9"
      },
      "execution_count": 6,
      "outputs": [
        {
          "output_type": "execute_result",
          "data": {
            "text/plain": [
              "   Pregnancies  Glucose  BloodPressure  SkinThickness  Insulin   BMI  \\\n",
              "0            6      148             72             35        0  33.6   \n",
              "1            1       85             66             29        0  26.6   \n",
              "2            8      183             64              0        0  23.3   \n",
              "3            1       89             66             23       94  28.1   \n",
              "4            0      137             40             35      168  43.1   \n",
              "\n",
              "   DiabetesPedigreeFunction  Age  Outcome  \n",
              "0                     0.627   50        1  \n",
              "1                     0.351   31        0  \n",
              "2                     0.672   32        1  \n",
              "3                     0.167   21        0  \n",
              "4                     2.288   33        1  "
            ],
            "text/html": [
              "\n",
              "  <div id=\"df-9ec15a13-043e-4b14-b7d6-6517f3e82a60\" class=\"colab-df-container\">\n",
              "    <div>\n",
              "<style scoped>\n",
              "    .dataframe tbody tr th:only-of-type {\n",
              "        vertical-align: middle;\n",
              "    }\n",
              "\n",
              "    .dataframe tbody tr th {\n",
              "        vertical-align: top;\n",
              "    }\n",
              "\n",
              "    .dataframe thead th {\n",
              "        text-align: right;\n",
              "    }\n",
              "</style>\n",
              "<table border=\"1\" class=\"dataframe\">\n",
              "  <thead>\n",
              "    <tr style=\"text-align: right;\">\n",
              "      <th></th>\n",
              "      <th>Pregnancies</th>\n",
              "      <th>Glucose</th>\n",
              "      <th>BloodPressure</th>\n",
              "      <th>SkinThickness</th>\n",
              "      <th>Insulin</th>\n",
              "      <th>BMI</th>\n",
              "      <th>DiabetesPedigreeFunction</th>\n",
              "      <th>Age</th>\n",
              "      <th>Outcome</th>\n",
              "    </tr>\n",
              "  </thead>\n",
              "  <tbody>\n",
              "    <tr>\n",
              "      <th>0</th>\n",
              "      <td>6</td>\n",
              "      <td>148</td>\n",
              "      <td>72</td>\n",
              "      <td>35</td>\n",
              "      <td>0</td>\n",
              "      <td>33.6</td>\n",
              "      <td>0.627</td>\n",
              "      <td>50</td>\n",
              "      <td>1</td>\n",
              "    </tr>\n",
              "    <tr>\n",
              "      <th>1</th>\n",
              "      <td>1</td>\n",
              "      <td>85</td>\n",
              "      <td>66</td>\n",
              "      <td>29</td>\n",
              "      <td>0</td>\n",
              "      <td>26.6</td>\n",
              "      <td>0.351</td>\n",
              "      <td>31</td>\n",
              "      <td>0</td>\n",
              "    </tr>\n",
              "    <tr>\n",
              "      <th>2</th>\n",
              "      <td>8</td>\n",
              "      <td>183</td>\n",
              "      <td>64</td>\n",
              "      <td>0</td>\n",
              "      <td>0</td>\n",
              "      <td>23.3</td>\n",
              "      <td>0.672</td>\n",
              "      <td>32</td>\n",
              "      <td>1</td>\n",
              "    </tr>\n",
              "    <tr>\n",
              "      <th>3</th>\n",
              "      <td>1</td>\n",
              "      <td>89</td>\n",
              "      <td>66</td>\n",
              "      <td>23</td>\n",
              "      <td>94</td>\n",
              "      <td>28.1</td>\n",
              "      <td>0.167</td>\n",
              "      <td>21</td>\n",
              "      <td>0</td>\n",
              "    </tr>\n",
              "    <tr>\n",
              "      <th>4</th>\n",
              "      <td>0</td>\n",
              "      <td>137</td>\n",
              "      <td>40</td>\n",
              "      <td>35</td>\n",
              "      <td>168</td>\n",
              "      <td>43.1</td>\n",
              "      <td>2.288</td>\n",
              "      <td>33</td>\n",
              "      <td>1</td>\n",
              "    </tr>\n",
              "  </tbody>\n",
              "</table>\n",
              "</div>\n",
              "    <div class=\"colab-df-buttons\">\n",
              "\n",
              "  <div class=\"colab-df-container\">\n",
              "    <button class=\"colab-df-convert\" onclick=\"convertToInteractive('df-9ec15a13-043e-4b14-b7d6-6517f3e82a60')\"\n",
              "            title=\"Convert this dataframe to an interactive table.\"\n",
              "            style=\"display:none;\">\n",
              "\n",
              "  <svg xmlns=\"http://www.w3.org/2000/svg\" height=\"24px\" viewBox=\"0 -960 960 960\">\n",
              "    <path d=\"M120-120v-720h720v720H120Zm60-500h600v-160H180v160Zm220 220h160v-160H400v160Zm0 220h160v-160H400v160ZM180-400h160v-160H180v160Zm440 0h160v-160H620v160ZM180-180h160v-160H180v160Zm440 0h160v-160H620v160Z\"/>\n",
              "  </svg>\n",
              "    </button>\n",
              "\n",
              "  <style>\n",
              "    .colab-df-container {\n",
              "      display:flex;\n",
              "      gap: 12px;\n",
              "    }\n",
              "\n",
              "    .colab-df-convert {\n",
              "      background-color: #E8F0FE;\n",
              "      border: none;\n",
              "      border-radius: 50%;\n",
              "      cursor: pointer;\n",
              "      display: none;\n",
              "      fill: #1967D2;\n",
              "      height: 32px;\n",
              "      padding: 0 0 0 0;\n",
              "      width: 32px;\n",
              "    }\n",
              "\n",
              "    .colab-df-convert:hover {\n",
              "      background-color: #E2EBFA;\n",
              "      box-shadow: 0px 1px 2px rgba(60, 64, 67, 0.3), 0px 1px 3px 1px rgba(60, 64, 67, 0.15);\n",
              "      fill: #174EA6;\n",
              "    }\n",
              "\n",
              "    .colab-df-buttons div {\n",
              "      margin-bottom: 4px;\n",
              "    }\n",
              "\n",
              "    [theme=dark] .colab-df-convert {\n",
              "      background-color: #3B4455;\n",
              "      fill: #D2E3FC;\n",
              "    }\n",
              "\n",
              "    [theme=dark] .colab-df-convert:hover {\n",
              "      background-color: #434B5C;\n",
              "      box-shadow: 0px 1px 3px 1px rgba(0, 0, 0, 0.15);\n",
              "      filter: drop-shadow(0px 1px 2px rgba(0, 0, 0, 0.3));\n",
              "      fill: #FFFFFF;\n",
              "    }\n",
              "  </style>\n",
              "\n",
              "    <script>\n",
              "      const buttonEl =\n",
              "        document.querySelector('#df-9ec15a13-043e-4b14-b7d6-6517f3e82a60 button.colab-df-convert');\n",
              "      buttonEl.style.display =\n",
              "        google.colab.kernel.accessAllowed ? 'block' : 'none';\n",
              "\n",
              "      async function convertToInteractive(key) {\n",
              "        const element = document.querySelector('#df-9ec15a13-043e-4b14-b7d6-6517f3e82a60');\n",
              "        const dataTable =\n",
              "          await google.colab.kernel.invokeFunction('convertToInteractive',\n",
              "                                                    [key], {});\n",
              "        if (!dataTable) return;\n",
              "\n",
              "        const docLinkHtml = 'Like what you see? Visit the ' +\n",
              "          '<a target=\"_blank\" href=https://colab.research.google.com/notebooks/data_table.ipynb>data table notebook</a>'\n",
              "          + ' to learn more about interactive tables.';\n",
              "        element.innerHTML = '';\n",
              "        dataTable['output_type'] = 'display_data';\n",
              "        await google.colab.output.renderOutput(dataTable, element);\n",
              "        const docLink = document.createElement('div');\n",
              "        docLink.innerHTML = docLinkHtml;\n",
              "        element.appendChild(docLink);\n",
              "      }\n",
              "    </script>\n",
              "  </div>\n",
              "\n",
              "\n",
              "<div id=\"df-ab21092c-374a-433d-a7d3-f54fa70ddc91\">\n",
              "  <button class=\"colab-df-quickchart\" onclick=\"quickchart('df-ab21092c-374a-433d-a7d3-f54fa70ddc91')\"\n",
              "            title=\"Suggest charts.\"\n",
              "            style=\"display:none;\">\n",
              "\n",
              "<svg xmlns=\"http://www.w3.org/2000/svg\" height=\"24px\"viewBox=\"0 0 24 24\"\n",
              "     width=\"24px\">\n",
              "    <g>\n",
              "        <path d=\"M19 3H5c-1.1 0-2 .9-2 2v14c0 1.1.9 2 2 2h14c1.1 0 2-.9 2-2V5c0-1.1-.9-2-2-2zM9 17H7v-7h2v7zm4 0h-2V7h2v10zm4 0h-2v-4h2v4z\"/>\n",
              "    </g>\n",
              "</svg>\n",
              "  </button>\n",
              "\n",
              "<style>\n",
              "  .colab-df-quickchart {\n",
              "      --bg-color: #E8F0FE;\n",
              "      --fill-color: #1967D2;\n",
              "      --hover-bg-color: #E2EBFA;\n",
              "      --hover-fill-color: #174EA6;\n",
              "      --disabled-fill-color: #AAA;\n",
              "      --disabled-bg-color: #DDD;\n",
              "  }\n",
              "\n",
              "  [theme=dark] .colab-df-quickchart {\n",
              "      --bg-color: #3B4455;\n",
              "      --fill-color: #D2E3FC;\n",
              "      --hover-bg-color: #434B5C;\n",
              "      --hover-fill-color: #FFFFFF;\n",
              "      --disabled-bg-color: #3B4455;\n",
              "      --disabled-fill-color: #666;\n",
              "  }\n",
              "\n",
              "  .colab-df-quickchart {\n",
              "    background-color: var(--bg-color);\n",
              "    border: none;\n",
              "    border-radius: 50%;\n",
              "    cursor: pointer;\n",
              "    display: none;\n",
              "    fill: var(--fill-color);\n",
              "    height: 32px;\n",
              "    padding: 0;\n",
              "    width: 32px;\n",
              "  }\n",
              "\n",
              "  .colab-df-quickchart:hover {\n",
              "    background-color: var(--hover-bg-color);\n",
              "    box-shadow: 0 1px 2px rgba(60, 64, 67, 0.3), 0 1px 3px 1px rgba(60, 64, 67, 0.15);\n",
              "    fill: var(--button-hover-fill-color);\n",
              "  }\n",
              "\n",
              "  .colab-df-quickchart-complete:disabled,\n",
              "  .colab-df-quickchart-complete:disabled:hover {\n",
              "    background-color: var(--disabled-bg-color);\n",
              "    fill: var(--disabled-fill-color);\n",
              "    box-shadow: none;\n",
              "  }\n",
              "\n",
              "  .colab-df-spinner {\n",
              "    border: 2px solid var(--fill-color);\n",
              "    border-color: transparent;\n",
              "    border-bottom-color: var(--fill-color);\n",
              "    animation:\n",
              "      spin 1s steps(1) infinite;\n",
              "  }\n",
              "\n",
              "  @keyframes spin {\n",
              "    0% {\n",
              "      border-color: transparent;\n",
              "      border-bottom-color: var(--fill-color);\n",
              "      border-left-color: var(--fill-color);\n",
              "    }\n",
              "    20% {\n",
              "      border-color: transparent;\n",
              "      border-left-color: var(--fill-color);\n",
              "      border-top-color: var(--fill-color);\n",
              "    }\n",
              "    30% {\n",
              "      border-color: transparent;\n",
              "      border-left-color: var(--fill-color);\n",
              "      border-top-color: var(--fill-color);\n",
              "      border-right-color: var(--fill-color);\n",
              "    }\n",
              "    40% {\n",
              "      border-color: transparent;\n",
              "      border-right-color: var(--fill-color);\n",
              "      border-top-color: var(--fill-color);\n",
              "    }\n",
              "    60% {\n",
              "      border-color: transparent;\n",
              "      border-right-color: var(--fill-color);\n",
              "    }\n",
              "    80% {\n",
              "      border-color: transparent;\n",
              "      border-right-color: var(--fill-color);\n",
              "      border-bottom-color: var(--fill-color);\n",
              "    }\n",
              "    90% {\n",
              "      border-color: transparent;\n",
              "      border-bottom-color: var(--fill-color);\n",
              "    }\n",
              "  }\n",
              "</style>\n",
              "\n",
              "  <script>\n",
              "    async function quickchart(key) {\n",
              "      const quickchartButtonEl =\n",
              "        document.querySelector('#' + key + ' button');\n",
              "      quickchartButtonEl.disabled = true;  // To prevent multiple clicks.\n",
              "      quickchartButtonEl.classList.add('colab-df-spinner');\n",
              "      try {\n",
              "        const charts = await google.colab.kernel.invokeFunction(\n",
              "            'suggestCharts', [key], {});\n",
              "      } catch (error) {\n",
              "        console.error('Error during call to suggestCharts:', error);\n",
              "      }\n",
              "      quickchartButtonEl.classList.remove('colab-df-spinner');\n",
              "      quickchartButtonEl.classList.add('colab-df-quickchart-complete');\n",
              "    }\n",
              "    (() => {\n",
              "      let quickchartButtonEl =\n",
              "        document.querySelector('#df-ab21092c-374a-433d-a7d3-f54fa70ddc91 button');\n",
              "      quickchartButtonEl.style.display =\n",
              "        google.colab.kernel.accessAllowed ? 'block' : 'none';\n",
              "    })();\n",
              "  </script>\n",
              "</div>\n",
              "    </div>\n",
              "  </div>\n"
            ]
          },
          "metadata": {},
          "execution_count": 6
        }
      ]
    },
    {
      "cell_type": "code",
      "source": [
        "df['Outcome'].value_counts()"
      ],
      "metadata": {
        "id": "0bUczxJEkv6J",
        "colab": {
          "base_uri": "https://localhost:8080/"
        },
        "outputId": "c51be17a-a3f0-4a61-af58-01d0b2cddbf4"
      },
      "execution_count": 7,
      "outputs": [
        {
          "output_type": "execute_result",
          "data": {
            "text/plain": [
              "0    500\n",
              "1    268\n",
              "Name: Outcome, dtype: int64"
            ]
          },
          "metadata": {},
          "execution_count": 7
        }
      ]
    },
    {
      "cell_type": "code",
      "source": [
        "from sklearn.model_selection import train_test_split"
      ],
      "metadata": {
        "id": "lxZqsqSIkv87"
      },
      "execution_count": 10,
      "outputs": []
    },
    {
      "cell_type": "code",
      "source": [
        "x=df.drop('Outcome',axis=1)\n",
        "y=df['Outcome']"
      ],
      "metadata": {
        "id": "vJiPU3Pckv_v"
      },
      "execution_count": 11,
      "outputs": []
    },
    {
      "cell_type": "code",
      "source": [
        "x_train,x_test,y_train,y_test=train_test_split(x,y,test_size=20,random_state=1)"
      ],
      "metadata": {
        "id": "KB2xb-u3kwCs"
      },
      "execution_count": 12,
      "outputs": []
    },
    {
      "cell_type": "code",
      "source": [
        "x_train.shape"
      ],
      "metadata": {
        "colab": {
          "base_uri": "https://localhost:8080/"
        },
        "id": "cukm0PI8dIXE",
        "outputId": "74540971-fbb3-40a7-98e2-d86a61bfd8bb"
      },
      "execution_count": 18,
      "outputs": [
        {
          "output_type": "execute_result",
          "data": {
            "text/plain": [
              "(748, 8)"
            ]
          },
          "metadata": {},
          "execution_count": 18
        }
      ]
    },
    {
      "cell_type": "code",
      "source": [
        "from sklearn.preprocessing import StandardScaler"
      ],
      "metadata": {
        "id": "KY-Xo8-WkwFK"
      },
      "execution_count": 13,
      "outputs": []
    },
    {
      "cell_type": "code",
      "source": [
        "scaler=StandardScaler()"
      ],
      "metadata": {
        "id": "2q-pDYvYkwIG"
      },
      "execution_count": 14,
      "outputs": []
    },
    {
      "cell_type": "code",
      "source": [
        "xtrain_scaled=scaler.fit_transform(x_train)\n",
        "xtest_scaled=scaler.transform(x_test)"
      ],
      "metadata": {
        "id": "J6kwQN6BkwLJ"
      },
      "execution_count": 15,
      "outputs": []
    },
    {
      "cell_type": "code",
      "source": [
        "import tensorflow\n",
        "from tensorflow import keras\n",
        "from tensorflow.keras import Sequential\n",
        "from tensorflow.keras.layers import Dense"
      ],
      "metadata": {
        "id": "A2PEO3KfkwNq"
      },
      "execution_count": 16,
      "outputs": []
    },
    {
      "cell_type": "code",
      "source": [
        "model=Sequential()\n",
        "\n",
        "model.add(Dense(8,activation='relu',input_dim=8))\n",
        "model.add(Dense(8,activation='relu'))\n",
        "model.add(Dense(1,activation='sigmoid'))"
      ],
      "metadata": {
        "id": "-7QjSJQ1kwRD"
      },
      "execution_count": 19,
      "outputs": []
    },
    {
      "cell_type": "code",
      "source": [
        "model.summary()"
      ],
      "metadata": {
        "id": "z9rMMAbBkwYT",
        "colab": {
          "base_uri": "https://localhost:8080/"
        },
        "outputId": "d495ff51-a1d6-4c61-fd52-52a59a4374ff"
      },
      "execution_count": 21,
      "outputs": [
        {
          "output_type": "stream",
          "name": "stdout",
          "text": [
            "Model: \"sequential\"\n",
            "_________________________________________________________________\n",
            " Layer (type)                Output Shape              Param #   \n",
            "=================================================================\n",
            " dense (Dense)               (None, 8)                 72        \n",
            "                                                                 \n",
            " dense_1 (Dense)             (None, 8)                 72        \n",
            "                                                                 \n",
            " dense_2 (Dense)             (None, 1)                 9         \n",
            "                                                                 \n",
            "=================================================================\n",
            "Total params: 153 (612.00 Byte)\n",
            "Trainable params: 153 (612.00 Byte)\n",
            "Non-trainable params: 0 (0.00 Byte)\n",
            "_________________________________________________________________\n"
          ]
        }
      ]
    },
    {
      "cell_type": "code",
      "source": [
        "model.compile(\n",
        "    loss='binary_crossentropy',\n",
        "    optimizer='Adam',\n",
        "    metrics=['accuracy']\n",
        ")"
      ],
      "metadata": {
        "id": "6n0HTtsieKuN"
      },
      "execution_count": 22,
      "outputs": []
    },
    {
      "cell_type": "code",
      "source": [
        "history=model.fit(xtrain_scaled,y_train,batch_size=50,verbose=1,validation_split=0.20,epochs=100)"
      ],
      "metadata": {
        "id": "sz2nw4SzkwbF",
        "colab": {
          "base_uri": "https://localhost:8080/"
        },
        "outputId": "7f01042b-43ff-48f1-d783-a1df0ac01ca5"
      },
      "execution_count": 46,
      "outputs": [
        {
          "output_type": "stream",
          "name": "stdout",
          "text": [
            "Epoch 1/100\n",
            "19/19 [==============================] - 0s 5ms/step - loss: 0.4109 - accuracy: 0.7926 - val_loss: 0.4873 - val_accuracy: 0.7533\n",
            "Epoch 2/100\n",
            "19/19 [==============================] - 0s 3ms/step - loss: 0.4109 - accuracy: 0.7910 - val_loss: 0.4869 - val_accuracy: 0.7533\n",
            "Epoch 3/100\n",
            "19/19 [==============================] - 0s 3ms/step - loss: 0.4105 - accuracy: 0.7943 - val_loss: 0.4880 - val_accuracy: 0.7400\n",
            "Epoch 4/100\n",
            "19/19 [==============================] - 0s 3ms/step - loss: 0.4119 - accuracy: 0.7960 - val_loss: 0.4890 - val_accuracy: 0.7467\n",
            "Epoch 5/100\n",
            "19/19 [==============================] - 0s 3ms/step - loss: 0.4107 - accuracy: 0.7926 - val_loss: 0.4870 - val_accuracy: 0.7400\n",
            "Epoch 6/100\n",
            "19/19 [==============================] - 0s 3ms/step - loss: 0.4109 - accuracy: 0.7910 - val_loss: 0.4877 - val_accuracy: 0.7400\n",
            "Epoch 7/100\n",
            "19/19 [==============================] - 0s 3ms/step - loss: 0.4109 - accuracy: 0.7893 - val_loss: 0.4862 - val_accuracy: 0.7533\n",
            "Epoch 8/100\n",
            "19/19 [==============================] - 0s 3ms/step - loss: 0.4102 - accuracy: 0.7910 - val_loss: 0.4872 - val_accuracy: 0.7600\n",
            "Epoch 9/100\n",
            "19/19 [==============================] - 0s 3ms/step - loss: 0.4105 - accuracy: 0.7910 - val_loss: 0.4864 - val_accuracy: 0.7533\n",
            "Epoch 10/100\n",
            "19/19 [==============================] - 0s 3ms/step - loss: 0.4103 - accuracy: 0.7910 - val_loss: 0.4870 - val_accuracy: 0.7533\n",
            "Epoch 11/100\n",
            "19/19 [==============================] - 0s 4ms/step - loss: 0.4101 - accuracy: 0.7910 - val_loss: 0.4879 - val_accuracy: 0.7533\n",
            "Epoch 12/100\n",
            "19/19 [==============================] - 0s 3ms/step - loss: 0.4108 - accuracy: 0.7893 - val_loss: 0.4886 - val_accuracy: 0.7467\n",
            "Epoch 13/100\n",
            "19/19 [==============================] - 0s 3ms/step - loss: 0.4098 - accuracy: 0.7926 - val_loss: 0.4875 - val_accuracy: 0.7533\n",
            "Epoch 14/100\n",
            "19/19 [==============================] - 0s 3ms/step - loss: 0.4098 - accuracy: 0.7926 - val_loss: 0.4877 - val_accuracy: 0.7467\n",
            "Epoch 15/100\n",
            "19/19 [==============================] - 0s 2ms/step - loss: 0.4095 - accuracy: 0.7910 - val_loss: 0.4873 - val_accuracy: 0.7533\n",
            "Epoch 16/100\n",
            "19/19 [==============================] - 0s 2ms/step - loss: 0.4095 - accuracy: 0.7910 - val_loss: 0.4879 - val_accuracy: 0.7533\n",
            "Epoch 17/100\n",
            "19/19 [==============================] - 0s 4ms/step - loss: 0.4093 - accuracy: 0.7910 - val_loss: 0.4876 - val_accuracy: 0.7467\n",
            "Epoch 18/100\n",
            "19/19 [==============================] - 0s 3ms/step - loss: 0.4094 - accuracy: 0.7910 - val_loss: 0.4882 - val_accuracy: 0.7600\n",
            "Epoch 19/100\n",
            "19/19 [==============================] - 0s 3ms/step - loss: 0.4088 - accuracy: 0.7910 - val_loss: 0.4876 - val_accuracy: 0.7533\n",
            "Epoch 20/100\n",
            "19/19 [==============================] - 0s 3ms/step - loss: 0.4099 - accuracy: 0.7943 - val_loss: 0.4885 - val_accuracy: 0.7600\n",
            "Epoch 21/100\n",
            "19/19 [==============================] - 0s 4ms/step - loss: 0.4093 - accuracy: 0.7943 - val_loss: 0.4873 - val_accuracy: 0.7533\n",
            "Epoch 22/100\n",
            "19/19 [==============================] - 0s 2ms/step - loss: 0.4095 - accuracy: 0.7893 - val_loss: 0.4876 - val_accuracy: 0.7533\n",
            "Epoch 23/100\n",
            "19/19 [==============================] - 0s 3ms/step - loss: 0.4088 - accuracy: 0.7876 - val_loss: 0.4872 - val_accuracy: 0.7533\n",
            "Epoch 24/100\n",
            "19/19 [==============================] - 0s 3ms/step - loss: 0.4086 - accuracy: 0.7926 - val_loss: 0.4879 - val_accuracy: 0.7533\n",
            "Epoch 25/100\n",
            "19/19 [==============================] - 0s 3ms/step - loss: 0.4086 - accuracy: 0.7910 - val_loss: 0.4873 - val_accuracy: 0.7533\n",
            "Epoch 26/100\n",
            "19/19 [==============================] - 0s 2ms/step - loss: 0.4090 - accuracy: 0.7910 - val_loss: 0.4870 - val_accuracy: 0.7533\n",
            "Epoch 27/100\n",
            "19/19 [==============================] - 0s 3ms/step - loss: 0.4087 - accuracy: 0.7893 - val_loss: 0.4883 - val_accuracy: 0.7533\n",
            "Epoch 28/100\n",
            "19/19 [==============================] - 0s 3ms/step - loss: 0.4082 - accuracy: 0.7926 - val_loss: 0.4882 - val_accuracy: 0.7533\n",
            "Epoch 29/100\n",
            "19/19 [==============================] - 0s 3ms/step - loss: 0.4089 - accuracy: 0.7993 - val_loss: 0.4885 - val_accuracy: 0.7533\n",
            "Epoch 30/100\n",
            "19/19 [==============================] - 0s 3ms/step - loss: 0.4083 - accuracy: 0.7960 - val_loss: 0.4880 - val_accuracy: 0.7467\n",
            "Epoch 31/100\n",
            "19/19 [==============================] - 0s 4ms/step - loss: 0.4082 - accuracy: 0.7926 - val_loss: 0.4874 - val_accuracy: 0.7600\n",
            "Epoch 32/100\n",
            "19/19 [==============================] - 0s 2ms/step - loss: 0.4079 - accuracy: 0.7926 - val_loss: 0.4881 - val_accuracy: 0.7533\n",
            "Epoch 33/100\n",
            "19/19 [==============================] - 0s 3ms/step - loss: 0.4089 - accuracy: 0.7943 - val_loss: 0.4885 - val_accuracy: 0.7600\n",
            "Epoch 34/100\n",
            "19/19 [==============================] - 0s 2ms/step - loss: 0.4084 - accuracy: 0.7893 - val_loss: 0.4873 - val_accuracy: 0.7533\n",
            "Epoch 35/100\n",
            "19/19 [==============================] - 0s 3ms/step - loss: 0.4077 - accuracy: 0.7926 - val_loss: 0.4871 - val_accuracy: 0.7533\n",
            "Epoch 36/100\n",
            "19/19 [==============================] - 0s 2ms/step - loss: 0.4083 - accuracy: 0.7910 - val_loss: 0.4880 - val_accuracy: 0.7600\n",
            "Epoch 37/100\n",
            "19/19 [==============================] - 0s 3ms/step - loss: 0.4075 - accuracy: 0.7960 - val_loss: 0.4878 - val_accuracy: 0.7533\n",
            "Epoch 38/100\n",
            "19/19 [==============================] - 0s 3ms/step - loss: 0.4075 - accuracy: 0.7943 - val_loss: 0.4868 - val_accuracy: 0.7533\n",
            "Epoch 39/100\n",
            "19/19 [==============================] - 0s 3ms/step - loss: 0.4070 - accuracy: 0.7960 - val_loss: 0.4872 - val_accuracy: 0.7533\n",
            "Epoch 40/100\n",
            "19/19 [==============================] - 0s 3ms/step - loss: 0.4071 - accuracy: 0.7926 - val_loss: 0.4885 - val_accuracy: 0.7600\n",
            "Epoch 41/100\n",
            "19/19 [==============================] - 0s 3ms/step - loss: 0.4074 - accuracy: 0.7943 - val_loss: 0.4878 - val_accuracy: 0.7600\n",
            "Epoch 42/100\n",
            "19/19 [==============================] - 0s 3ms/step - loss: 0.4069 - accuracy: 0.7943 - val_loss: 0.4880 - val_accuracy: 0.7600\n",
            "Epoch 43/100\n",
            "19/19 [==============================] - 0s 2ms/step - loss: 0.4068 - accuracy: 0.7926 - val_loss: 0.4867 - val_accuracy: 0.7533\n",
            "Epoch 44/100\n",
            "19/19 [==============================] - 0s 3ms/step - loss: 0.4068 - accuracy: 0.7943 - val_loss: 0.4872 - val_accuracy: 0.7533\n",
            "Epoch 45/100\n",
            "19/19 [==============================] - 0s 3ms/step - loss: 0.4072 - accuracy: 0.7943 - val_loss: 0.4884 - val_accuracy: 0.7600\n",
            "Epoch 46/100\n",
            "19/19 [==============================] - 0s 3ms/step - loss: 0.4065 - accuracy: 0.7926 - val_loss: 0.4870 - val_accuracy: 0.7533\n",
            "Epoch 47/100\n",
            "19/19 [==============================] - 0s 3ms/step - loss: 0.4067 - accuracy: 0.7960 - val_loss: 0.4875 - val_accuracy: 0.7533\n",
            "Epoch 48/100\n",
            "19/19 [==============================] - 0s 2ms/step - loss: 0.4064 - accuracy: 0.7943 - val_loss: 0.4866 - val_accuracy: 0.7533\n",
            "Epoch 49/100\n",
            "19/19 [==============================] - 0s 2ms/step - loss: 0.4070 - accuracy: 0.7943 - val_loss: 0.4879 - val_accuracy: 0.7533\n",
            "Epoch 50/100\n",
            "19/19 [==============================] - 0s 2ms/step - loss: 0.4062 - accuracy: 0.7943 - val_loss: 0.4871 - val_accuracy: 0.7533\n",
            "Epoch 51/100\n",
            "19/19 [==============================] - 0s 3ms/step - loss: 0.4063 - accuracy: 0.7943 - val_loss: 0.4871 - val_accuracy: 0.7533\n",
            "Epoch 52/100\n",
            "19/19 [==============================] - 0s 2ms/step - loss: 0.4063 - accuracy: 0.7943 - val_loss: 0.4871 - val_accuracy: 0.7533\n",
            "Epoch 53/100\n",
            "19/19 [==============================] - 0s 3ms/step - loss: 0.4062 - accuracy: 0.7943 - val_loss: 0.4878 - val_accuracy: 0.7600\n",
            "Epoch 54/100\n",
            "19/19 [==============================] - 0s 3ms/step - loss: 0.4059 - accuracy: 0.7960 - val_loss: 0.4870 - val_accuracy: 0.7600\n",
            "Epoch 55/100\n",
            "19/19 [==============================] - 0s 3ms/step - loss: 0.4062 - accuracy: 0.7943 - val_loss: 0.4865 - val_accuracy: 0.7533\n",
            "Epoch 56/100\n",
            "19/19 [==============================] - 0s 3ms/step - loss: 0.4061 - accuracy: 0.7960 - val_loss: 0.4870 - val_accuracy: 0.7600\n",
            "Epoch 57/100\n",
            "19/19 [==============================] - 0s 2ms/step - loss: 0.4062 - accuracy: 0.7960 - val_loss: 0.4873 - val_accuracy: 0.7533\n",
            "Epoch 58/100\n",
            "19/19 [==============================] - 0s 3ms/step - loss: 0.4060 - accuracy: 0.7943 - val_loss: 0.4879 - val_accuracy: 0.7533\n",
            "Epoch 59/100\n",
            "19/19 [==============================] - 0s 2ms/step - loss: 0.4058 - accuracy: 0.7943 - val_loss: 0.4873 - val_accuracy: 0.7533\n",
            "Epoch 60/100\n",
            "19/19 [==============================] - 0s 2ms/step - loss: 0.4054 - accuracy: 0.7943 - val_loss: 0.4865 - val_accuracy: 0.7533\n",
            "Epoch 61/100\n",
            "19/19 [==============================] - 0s 3ms/step - loss: 0.4055 - accuracy: 0.7943 - val_loss: 0.4868 - val_accuracy: 0.7600\n",
            "Epoch 62/100\n",
            "19/19 [==============================] - 0s 3ms/step - loss: 0.4060 - accuracy: 0.7943 - val_loss: 0.4864 - val_accuracy: 0.7533\n",
            "Epoch 63/100\n",
            "19/19 [==============================] - 0s 3ms/step - loss: 0.4056 - accuracy: 0.7960 - val_loss: 0.4859 - val_accuracy: 0.7600\n",
            "Epoch 64/100\n",
            "19/19 [==============================] - 0s 3ms/step - loss: 0.4053 - accuracy: 0.7943 - val_loss: 0.4872 - val_accuracy: 0.7600\n",
            "Epoch 65/100\n",
            "19/19 [==============================] - 0s 3ms/step - loss: 0.4050 - accuracy: 0.7960 - val_loss: 0.4869 - val_accuracy: 0.7600\n",
            "Epoch 66/100\n",
            "19/19 [==============================] - 0s 3ms/step - loss: 0.4053 - accuracy: 0.7977 - val_loss: 0.4863 - val_accuracy: 0.7600\n",
            "Epoch 67/100\n",
            "19/19 [==============================] - 0s 3ms/step - loss: 0.4054 - accuracy: 0.7943 - val_loss: 0.4856 - val_accuracy: 0.7533\n",
            "Epoch 68/100\n",
            "19/19 [==============================] - 0s 3ms/step - loss: 0.4054 - accuracy: 0.7943 - val_loss: 0.4873 - val_accuracy: 0.7533\n",
            "Epoch 69/100\n",
            "19/19 [==============================] - 0s 3ms/step - loss: 0.4055 - accuracy: 0.7943 - val_loss: 0.4864 - val_accuracy: 0.7533\n",
            "Epoch 70/100\n",
            "19/19 [==============================] - 0s 3ms/step - loss: 0.4045 - accuracy: 0.7943 - val_loss: 0.4863 - val_accuracy: 0.7600\n",
            "Epoch 71/100\n",
            "19/19 [==============================] - 0s 3ms/step - loss: 0.4048 - accuracy: 0.7943 - val_loss: 0.4868 - val_accuracy: 0.7600\n",
            "Epoch 72/100\n",
            "19/19 [==============================] - 0s 3ms/step - loss: 0.4047 - accuracy: 0.7960 - val_loss: 0.4868 - val_accuracy: 0.7600\n",
            "Epoch 73/100\n",
            "19/19 [==============================] - 0s 3ms/step - loss: 0.4043 - accuracy: 0.7977 - val_loss: 0.4872 - val_accuracy: 0.7600\n",
            "Epoch 74/100\n",
            "19/19 [==============================] - 0s 2ms/step - loss: 0.4049 - accuracy: 0.7960 - val_loss: 0.4864 - val_accuracy: 0.7600\n",
            "Epoch 75/100\n",
            "19/19 [==============================] - 0s 3ms/step - loss: 0.4045 - accuracy: 0.7943 - val_loss: 0.4871 - val_accuracy: 0.7600\n",
            "Epoch 76/100\n",
            "19/19 [==============================] - 0s 3ms/step - loss: 0.4046 - accuracy: 0.7943 - val_loss: 0.4866 - val_accuracy: 0.7600\n",
            "Epoch 77/100\n",
            "19/19 [==============================] - 0s 4ms/step - loss: 0.4039 - accuracy: 0.7960 - val_loss: 0.4865 - val_accuracy: 0.7600\n",
            "Epoch 78/100\n",
            "19/19 [==============================] - 0s 3ms/step - loss: 0.4040 - accuracy: 0.7993 - val_loss: 0.4866 - val_accuracy: 0.7600\n",
            "Epoch 79/100\n",
            "19/19 [==============================] - 0s 3ms/step - loss: 0.4044 - accuracy: 0.7977 - val_loss: 0.4855 - val_accuracy: 0.7533\n",
            "Epoch 80/100\n",
            "19/19 [==============================] - 0s 3ms/step - loss: 0.4040 - accuracy: 0.7977 - val_loss: 0.4860 - val_accuracy: 0.7600\n",
            "Epoch 81/100\n",
            "19/19 [==============================] - 0s 4ms/step - loss: 0.4046 - accuracy: 0.7960 - val_loss: 0.4856 - val_accuracy: 0.7600\n",
            "Epoch 82/100\n",
            "19/19 [==============================] - 0s 3ms/step - loss: 0.4038 - accuracy: 0.7943 - val_loss: 0.4856 - val_accuracy: 0.7533\n",
            "Epoch 83/100\n",
            "19/19 [==============================] - 0s 4ms/step - loss: 0.4040 - accuracy: 0.7960 - val_loss: 0.4860 - val_accuracy: 0.7533\n",
            "Epoch 84/100\n",
            "19/19 [==============================] - 0s 3ms/step - loss: 0.4039 - accuracy: 0.7977 - val_loss: 0.4873 - val_accuracy: 0.7600\n",
            "Epoch 85/100\n",
            "19/19 [==============================] - 0s 2ms/step - loss: 0.4036 - accuracy: 0.7960 - val_loss: 0.4854 - val_accuracy: 0.7533\n",
            "Epoch 86/100\n",
            "19/19 [==============================] - 0s 2ms/step - loss: 0.4037 - accuracy: 0.7960 - val_loss: 0.4865 - val_accuracy: 0.7533\n",
            "Epoch 87/100\n",
            "19/19 [==============================] - 0s 3ms/step - loss: 0.4040 - accuracy: 0.7977 - val_loss: 0.4849 - val_accuracy: 0.7533\n",
            "Epoch 88/100\n",
            "19/19 [==============================] - 0s 2ms/step - loss: 0.4038 - accuracy: 0.7960 - val_loss: 0.4864 - val_accuracy: 0.7533\n",
            "Epoch 89/100\n",
            "19/19 [==============================] - 0s 2ms/step - loss: 0.4034 - accuracy: 0.7977 - val_loss: 0.4848 - val_accuracy: 0.7600\n",
            "Epoch 90/100\n",
            "19/19 [==============================] - 0s 3ms/step - loss: 0.4030 - accuracy: 0.7977 - val_loss: 0.4861 - val_accuracy: 0.7600\n",
            "Epoch 91/100\n",
            "19/19 [==============================] - 0s 4ms/step - loss: 0.4036 - accuracy: 0.7960 - val_loss: 0.4864 - val_accuracy: 0.7533\n",
            "Epoch 92/100\n",
            "19/19 [==============================] - 0s 4ms/step - loss: 0.4031 - accuracy: 0.7960 - val_loss: 0.4856 - val_accuracy: 0.7600\n",
            "Epoch 93/100\n",
            "19/19 [==============================] - 0s 4ms/step - loss: 0.4030 - accuracy: 0.7960 - val_loss: 0.4874 - val_accuracy: 0.7533\n",
            "Epoch 94/100\n",
            "19/19 [==============================] - 0s 3ms/step - loss: 0.4031 - accuracy: 0.7977 - val_loss: 0.4862 - val_accuracy: 0.7600\n",
            "Epoch 95/100\n",
            "19/19 [==============================] - 0s 4ms/step - loss: 0.4027 - accuracy: 0.7977 - val_loss: 0.4864 - val_accuracy: 0.7600\n",
            "Epoch 96/100\n",
            "19/19 [==============================] - 0s 3ms/step - loss: 0.4030 - accuracy: 0.7993 - val_loss: 0.4861 - val_accuracy: 0.7600\n",
            "Epoch 97/100\n",
            "19/19 [==============================] - 0s 4ms/step - loss: 0.4030 - accuracy: 0.8010 - val_loss: 0.4866 - val_accuracy: 0.7600\n",
            "Epoch 98/100\n",
            "19/19 [==============================] - 0s 4ms/step - loss: 0.4038 - accuracy: 0.7993 - val_loss: 0.4875 - val_accuracy: 0.7533\n",
            "Epoch 99/100\n",
            "19/19 [==============================] - 0s 4ms/step - loss: 0.4027 - accuracy: 0.7993 - val_loss: 0.4867 - val_accuracy: 0.7600\n",
            "Epoch 100/100\n",
            "19/19 [==============================] - 0s 4ms/step - loss: 0.4031 - accuracy: 0.8010 - val_loss: 0.4861 - val_accuracy: 0.7533\n"
          ]
        }
      ]
    },
    {
      "cell_type": "code",
      "source": [
        "y_pred=model.predict(xtest_scaled)"
      ],
      "metadata": {
        "id": "RSLH7f9jkwed",
        "colab": {
          "base_uri": "https://localhost:8080/"
        },
        "outputId": "a5f5fc5c-4a23-4d39-9b2b-18812f1543a7"
      },
      "execution_count": 47,
      "outputs": [
        {
          "output_type": "stream",
          "name": "stdout",
          "text": [
            "1/1 [==============================] - 0s 16ms/step\n"
          ]
        }
      ]
    },
    {
      "cell_type": "code",
      "source": [
        "y_pred"
      ],
      "metadata": {
        "colab": {
          "base_uri": "https://localhost:8080/"
        },
        "id": "6TOCL5NNgcqf",
        "outputId": "ac52305b-19c7-44a2-e2a5-9e7147633483"
      },
      "execution_count": 48,
      "outputs": [
        {
          "output_type": "execute_result",
          "data": {
            "text/plain": [
              "array([[0.63243836],\n",
              "       [0.5014207 ],\n",
              "       [0.1423497 ],\n",
              "       [0.18035686],\n",
              "       [0.10586771],\n",
              "       [0.17598914],\n",
              "       [0.64353496],\n",
              "       [0.04889375],\n",
              "       [0.2030897 ],\n",
              "       [0.05345763],\n",
              "       [0.53111804],\n",
              "       [0.18357341],\n",
              "       [0.80630064],\n",
              "       [0.8161004 ],\n",
              "       [0.0086588 ],\n",
              "       [0.7317242 ],\n",
              "       [0.43348446],\n",
              "       [0.49488756],\n",
              "       [0.09389751],\n",
              "       [0.178264  ]], dtype=float32)"
            ]
          },
          "metadata": {},
          "execution_count": 48
        }
      ]
    },
    {
      "cell_type": "code",
      "source": [
        "y_pred=y_pred.argmax(axis=1)"
      ],
      "metadata": {
        "id": "LjajeXJ8gctH"
      },
      "execution_count": 49,
      "outputs": []
    },
    {
      "cell_type": "code",
      "source": [
        "from sklearn.metrics import accuracy_score"
      ],
      "metadata": {
        "id": "Z9ajtOjAe9e6"
      },
      "execution_count": 50,
      "outputs": []
    },
    {
      "cell_type": "code",
      "source": [
        "accuracy_score(y_test,y_pred)"
      ],
      "metadata": {
        "colab": {
          "base_uri": "https://localhost:8080/"
        },
        "id": "UNC6qgvegycx",
        "outputId": "858c02c3-4059-4f2c-ce4b-67a4a0793677"
      },
      "execution_count": 51,
      "outputs": [
        {
          "output_type": "execute_result",
          "data": {
            "text/plain": [
              "0.8"
            ]
          },
          "metadata": {},
          "execution_count": 51
        }
      ]
    },
    {
      "cell_type": "code",
      "source": [
        "plt.plot(history.history['loss'])\n",
        "plt.plot(history.history['val_loss'])"
      ],
      "metadata": {
        "colab": {
          "base_uri": "https://localhost:8080/",
          "height": 447
        },
        "id": "x3ayEmOXg65v",
        "outputId": "ff425324-a057-47d3-f5eb-2717831c7570"
      },
      "execution_count": 52,
      "outputs": [
        {
          "output_type": "execute_result",
          "data": {
            "text/plain": [
              "[<matplotlib.lines.Line2D at 0x7f195c13a440>]"
            ]
          },
          "metadata": {},
          "execution_count": 52
        },
        {
          "output_type": "display_data",
          "data": {
            "text/plain": [
              "<Figure size 640x480 with 1 Axes>"
            ],
            "image/png": "[encoded data removed]"
          },
          "metadata": {}
        }
      ]
    },
    {
      "cell_type": "code",
      "source": [
        "plt.plot(history.history['accuracy'])\n",
        "plt.plot(history.history['val_accuracy'])"
      ],
      "metadata": {
        "colab": {
          "base_uri": "https://localhost:8080/",
          "height": 447
        },
        "id": "XfRkHWZtiHAq",
        "outputId": "4669ab24-3810-4cee-dff2-cf337434e0ee"
      },
      "execution_count": 53,
      "outputs": [
        {
          "output_type": "execute_result",
          "data": {
            "text/plain": [
              "[<matplotlib.lines.Line2D at 0x7f194be0cbe0>]"
            ]
          },
          "metadata": {},
          "execution_count": 53
        },
        {
          "output_type": "display_data",
          "data": {
            "text/plain": [
              "<Figure size 640x480 with 1 Axes>"
            ],
            "image/png": "[encoded data removed]"
          },
          "metadata": {}
        }
      ]
    }
  ]
}